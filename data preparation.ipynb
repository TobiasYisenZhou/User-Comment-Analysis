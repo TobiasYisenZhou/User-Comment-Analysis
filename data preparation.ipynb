{
 "cells": [
  {
   "cell_type": "markdown",
   "id": "c9921b39",
   "metadata": {},
   "source": [
    "# 1. create positive / negative label"
   ]
  },
  {
   "cell_type": "code",
   "execution_count": 45,
   "id": "80cdd4bc",
   "metadata": {},
   "outputs": [],
   "source": [
    "import pandas as pd\n",
    "import numpy as np\n",
    "from sklearn.model_selection import train_test_split\n",
    "from sklearn.model_selection import GridSearchCV\n",
    "from sklearn.model_selection import StratifiedKFold\n",
    "from sklearn.ensemble import RandomForestClassifier\n",
    "from imblearn.over_sampling import RandomOverSampler"
   ]
  },
  {
   "cell_type": "code",
   "execution_count": 46,
   "id": "579c1960",
   "metadata": {},
   "outputs": [],
   "source": [
    "df1=pd.read_csv(r\"D:\\CU\\spring 2022\\nlp\\Roku\\amazon_OS10.csv\")\n",
    "df2=pd.read_csv(r\"D:\\CU\\spring 2022\\nlp\\Roku\\amazon_OS94.csv\")\n",
    "df3=pd.read_csv(r\"D:\\CU\\spring 2022\\nlp\\Roku\\amazon_OS10_5.csv\")"
   ]
  },
  {
   "cell_type": "code",
   "execution_count": 47,
   "id": "bf6b2590",
   "metadata": {
    "scrolled": true
   },
   "outputs": [],
   "source": [
    "df=pd.concat([df1,df2,df3],axis=0)"
   ]
  },
  {
   "cell_type": "code",
   "execution_count": 48,
   "id": "073958a2",
   "metadata": {},
   "outputs": [],
   "source": [
    "df[\"label\"]=[1 if i==5 or i==4 else 0 for i in df[\"rating\"]]\n",
    "# 1 is positive, 0 is negative"
   ]
  },
  {
   "cell_type": "code",
   "execution_count": 49,
   "id": "3e7b95d5",
   "metadata": {},
   "outputs": [
    {
     "data": {
      "text/plain": [
       "1    1114\n",
       "0     600\n",
       "Name: label, dtype: int64"
      ]
     },
     "execution_count": 49,
     "metadata": {},
     "output_type": "execute_result"
    }
   ],
   "source": [
    "df[\"label\"].value_counts()\n",
    "# too less negative, might result in inaccurate model, over sampling needed later"
   ]
  },
  {
   "cell_type": "markdown",
   "id": "d37925b7",
   "metadata": {},
   "source": [
    "# 2. Vectorizing and oversample "
   ]
  },
  {
   "cell_type": "code",
   "execution_count": 50,
   "id": "383e37fb",
   "metadata": {},
   "outputs": [],
   "source": [
    "def my_bow(df_in, gram_m, gram_n, sw):\n",
    "    from sklearn.feature_extraction.text import CountVectorizer\n",
    "    from sklearn.feature_extraction.text import TfidfVectorizer\n",
    "    import pandas as pd\n",
    "    if sw == \"tf-idf\":\n",
    "        my_cv = TfidfVectorizer(ngram_range=(gram_m, gram_n))\n",
    "    else:\n",
    "        my_cv = CountVectorizer(ngram_range=(gram_m, gram_n))\n",
    "    my_cv_data = pd.DataFrame(my_cv.fit_transform(df_in).toarray())\n",
    "    col_names = list(my_cv.vocabulary_.keys())\n",
    "    my_cv_data.columns = col_names\n",
    "    return my_cv_data\n",
    "\n",
    "def ml_helper(model,x,y,xt,yt,params,cv,sc):\n",
    "    from sklearn.model_selection import GridSearchCV\n",
    "    grid=GridSearchCV(model, param_grid=params, cv=cv, scoring=sc)\n",
    "    grid.fit(x,y)\n",
    "    print(\"best mean cv score {}\".format(grid.best_score_))\n",
    "    print(\"test score {}\".format(grid.score(xt, yt)))\n",
    "    print(\"best parameters {}\".format(grid.best_params_))\n",
    "    return None"
   ]
  },
  {
   "cell_type": "code",
   "execution_count": 51,
   "id": "8a61ecad",
   "metadata": {},
   "outputs": [],
   "source": [
    "df4=df[[\"stemmed\",\"id\",\"label\"]]\n",
    "x=df4[[\"stemmed\",\"id\"]]\n",
    "y=df4[[\"label\"]]"
   ]
  },
  {
   "cell_type": "code",
   "execution_count": 52,
   "id": "80d505b3",
   "metadata": {},
   "outputs": [],
   "source": [
    "# over sample\n",
    "oversample = RandomOverSampler(sampling_strategy='minority')\n",
    "x_over,y=oversample.fit_resample(x, y)"
   ]
  },
  {
   "cell_type": "code",
   "execution_count": 53,
   "id": "03001216",
   "metadata": {
    "scrolled": true
   },
   "outputs": [],
   "source": [
    "df5=pd.concat([x_over,y],axis=1)"
   ]
  },
  {
   "cell_type": "code",
   "execution_count": 54,
   "id": "102cc54d",
   "metadata": {},
   "outputs": [],
   "source": [
    "df6=df5.merge(df, how=\"left\", on=\"id\")"
   ]
  },
  {
   "cell_type": "code",
   "execution_count": 59,
   "id": "862ef49d",
   "metadata": {},
   "outputs": [
    {
     "data": {
      "text/plain": [
       "Index(['stemmed_x', 'id', 'label_x', 'title', 'body', 'link', 'rating',\n",
       "       'verified_purchase', 'helpful_votes', 'year', 'month', 'version',\n",
       "       'bd_cleaned', 'sw_removed', 'stemmed_y', 'label_y'],\n",
       "      dtype='object')"
      ]
     },
     "execution_count": 59,
     "metadata": {},
     "output_type": "execute_result"
    }
   ],
   "source": [
    "df6.columns"
   ]
  },
  {
   "cell_type": "code",
   "execution_count": 64,
   "id": "65a3affe",
   "metadata": {},
   "outputs": [],
   "source": [
    "df6.to_csv(r\"D:\\CU\\spring 2022\\nlp\\Roku\\amazon_model_df.csv\")"
   ]
  },
  {
   "cell_type": "code",
   "execution_count": 60,
   "id": "23214355",
   "metadata": {},
   "outputs": [],
   "source": [
    "# 这里搞出了两个可以用在后面traning的dataset，一个是bow一个是tfidf，后面看那个效果好就用那个\n",
    "# 另外，中间的1，3代表我们看1个单词或者3个单词组成的词组的情况，可以视情况而定要不要进行调整（1，1），（1，2）\n",
    "bow_df=my_bow(df6[\"stemmed_x\"], 1, 3, \"bow\")\n",
    "tfidf_df=my_bow(df6[\"stemmed_x\"], 1, 3, \"tf-idf\")"
   ]
  },
  {
   "cell_type": "code",
   "execution_count": 62,
   "id": "18bc2044",
   "metadata": {},
   "outputs": [],
   "source": [
    "y=df6[\"label_x\"]"
   ]
  },
  {
   "cell_type": "code",
   "execution_count": null,
   "id": "d8d0f954",
   "metadata": {},
   "outputs": [],
   "source": []
  }
 ],
 "metadata": {
  "kernelspec": {
   "display_name": "Python 3 (ipykernel)",
   "language": "python",
   "name": "python3"
  },
  "language_info": {
   "codemirror_mode": {
    "name": "ipython",
    "version": 3
   },
   "file_extension": ".py",
   "mimetype": "text/x-python",
   "name": "python",
   "nbconvert_exporter": "python",
   "pygments_lexer": "ipython3",
   "version": "3.9.7"
  }
 },
 "nbformat": 4,
 "nbformat_minor": 5
}
