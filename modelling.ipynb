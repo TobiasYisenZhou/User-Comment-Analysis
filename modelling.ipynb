{
 "cells": [
  {
   "cell_type": "code",
   "execution_count": 1,
   "id": "20cb52b5",
   "metadata": {},
   "outputs": [],
   "source": [
    "import pandas as pd\n",
    "import numpy as np\n",
    "from sklearn.model_selection import train_test_split\n",
    "from sklearn.model_selection import GridSearchCV\n",
    "from sklearn.model_selection import StratifiedKFold\n",
    "from sklearn.ensemble import RandomForestClassifier\n",
    "from sklearn.metrics import classification_report"
   ]
  },
  {
   "cell_type": "code",
   "execution_count": 2,
   "id": "70956f2b",
   "metadata": {},
   "outputs": [],
   "source": [
    "def clean_txt(txt_in):\n",
    "    import re\n",
    "    clean_str = re.sub(\"[^A-Za-z]+\", \" \", txt_in).strip().lower()\n",
    "    return clean_str\n",
    "def my_stop_words(var_in):\n",
    "    from nltk.corpus import stopwords\n",
    "    sw = stopwords.words('english')\n",
    "    tmp = [word for word in var_in.split() if word not in sw]\n",
    "    tmp = ' '.join(tmp)\n",
    "    return tmp\n",
    "def my_stem(var_in):\n",
    "    from nltk.stem.porter import PorterStemmer\n",
    "    my_stem = PorterStemmer()\n",
    "    tmp = [my_stem.stem(word) for word in var_in.split()]\n",
    "    tmp = ' '.join(tmp)\n",
    "    return tmp\n",
    "\n",
    "def my_bow(df_in, gram_m, gram_n, sw):\n",
    "    from sklearn.feature_extraction.text import CountVectorizer\n",
    "    from sklearn.feature_extraction.text import TfidfVectorizer\n",
    "    import pandas as pd\n",
    "    if sw == \"tf-idf\":\n",
    "        my_cv = TfidfVectorizer(ngram_range=(gram_m, gram_n))\n",
    "    else:\n",
    "        my_cv = CountVectorizer(ngram_range=(gram_m, gram_n))\n",
    "    my_cv_data = pd.DataFrame(my_cv.fit_transform(df_in).toarray())\n",
    "    col_names = list(my_cv.vocabulary_.keys())\n",
    "    my_cv_data.columns = col_names\n",
    "    return my_cv_data,my_cv\n",
    "\n",
    "def ml_helper(model,x,y,xt,yt,params,cv,sc):\n",
    "    from sklearn.model_selection import GridSearchCV\n",
    "    grid=GridSearchCV(model, param_grid=params, cv=cv, scoring=sc)\n",
    "    grid.fit(x,y)\n",
    "    print(\"best mean cv score {}\".format(grid.best_score_))\n",
    "    print(\"test score {}\".format(grid.score(xt, yt)))\n",
    "    print(\"best parameters {}\".format(grid.best_params_))\n",
    "    return None\n",
    "\n",
    "def my_pca(df_in,exp_var_in):\n",
    "    from sklearn.decomposition import PCA\n",
    "    my_pca = PCA(n_components=exp_var_in)#, svd_solver='full')\n",
    "    my_pca_data = my_pca.fit_transform(df_in)\n",
    "    exp_var = sum(my_pca.explained_variance_ratio_)\n",
    "    print (\"Explained variance is:\", exp_var)\n",
    "    return my_pca_data, my_pca\n",
    "\n",
    "def nlp_pipline(txt, vec, model, pca):\n",
    "    cleaned_bd=clean_txt(txt)\n",
    "    rem_sw=my_stop_words(cleaned_bd)\n",
    "    stemmed=my_stem(rem_sw)\n",
    "    vectorized=vec.transform([stemmed])\n",
    "    reduced=pca.transform(vectorized.toarray())\n",
    "    label=model.predict(reduced)\n",
    "    \n",
    "    if label[0]==0:\n",
    "        lab=\"NEGATIVE\"\n",
    "    elif label[0]==1:\n",
    "        lab=\"POSITIVE\"\n",
    "    else:\n",
    "        lab=\"other\"\n",
    "    prob1=np.mean(model.predict_proba(reduced)[:,0])\n",
    "    prob2=np.mean(model.predict_proba(reduced)[:,1])\n",
    "\n",
    "    print(\"The class is\",lab, \"and the probability for negativity is\",round(prob1,4), \n",
    "          \"the probability for positivity is\", round(prob2,4))"
   ]
  },
  {
   "cell_type": "code",
   "execution_count": 3,
   "id": "fb6ee58e",
   "metadata": {},
   "outputs": [],
   "source": [
    "# change the path to yours\n",
    "df=pd.read_csv(r\"D:\\CU\\spring 2022\\nlp\\Roku\\amazon_model_df.csv\")"
   ]
  },
  {
   "cell_type": "code",
   "execution_count": 4,
   "id": "bf7f5644",
   "metadata": {},
   "outputs": [],
   "source": [
    "# 这里可以搞出了两个可以用在后面traning的dataset，一个是bow一个是tfidf，后面看那个效果好就用那个\n",
    "# 另外，中间的1，3代表我们看1个单词或者3个单词组成的词组的情况，可以视情况而定要不要进行调整（1，3），（1，2）\n",
    "bow_pack=my_bow(df[\"stemmed\"], 1, 1, \"bow\")\n",
    "tfidf_pack=my_bow(df[\"stemmed\"], 1, 1, \"tf-idf\")\n",
    "bow_df=bow_pack[0]\n",
    "bow_cv=bow_pack[1]\n",
    "tfidf_df=tfidf_pack[0]\n",
    "tfidf_cv=tfidf_pack[1]\n"
   ]
  },
  {
   "cell_type": "code",
   "execution_count": 5,
   "id": "749f3674",
   "metadata": {},
   "outputs": [],
   "source": [
    "y=df[\"label\"]"
   ]
  },
  {
   "cell_type": "code",
   "execution_count": 6,
   "id": "08902097",
   "metadata": {},
   "outputs": [
    {
     "name": "stdout",
     "output_type": "stream",
     "text": [
      "Explained variance is: 0.9000351048871951\n",
      "Explained variance is: 0.9002337303352271\n"
     ]
    }
   ],
   "source": [
    "# 不用改什么\n",
    "bow_pca_pack=my_pca(bow_df, 0.9)\n",
    "tfidf_pca_pack=my_pca(tfidf_df, 0.9)\n",
    "bow_pca=bow_pca_pack[0]\n",
    "tfidf_pca=tfidf_pca_pack[0]\n",
    "bow_pca_transformer=bow_pca_pack[1]\n",
    "tfidf_pca_transformer=tfidf_pca_pack[1]"
   ]
  },
  {
   "cell_type": "code",
   "execution_count": 7,
   "id": "348de0a0",
   "metadata": {},
   "outputs": [],
   "source": [
    "# you can the X= to bow_pca, tfidf_pca and run this every time you change the parameter above\n",
    "X=bow_pca\n",
    "X_train, X_test, y_train, y_test=train_test_split(X, y, random_state=42)"
   ]
  },
  {
   "cell_type": "code",
   "execution_count": 20,
   "id": "14a1bfee",
   "metadata": {},
   "outputs": [
    {
     "name": "stdout",
     "output_type": "stream",
     "text": [
      "best mean cv score 0.7512247949082683\n",
      "test score 0.8134453781512605\n",
      "best parameters {'max_depth': 23, 'min_samples_leaf': 4, 'n_estimators': 90}\n"
     ]
    }
   ],
   "source": [
    "# model training\n",
    "parameters={\"max_depth\":np.arange(22,24,1), \"min_samples_leaf\":np.arange(4,5,1),\"n_estimators\":np.arange(88,92,1) }\n",
    "# change the numbers in the bracket\n",
    "\n",
    "# this will print out the f1 score and the best parameters\n",
    "ml_helper(RandomForestClassifier(random_state=42),X_train,y_train,X_test,y_test,parameters,5,\"f1\")"
   ]
  },
  {
   "cell_type": "code",
   "execution_count": 21,
   "id": "44997a09",
   "metadata": {},
   "outputs": [
    {
     "name": "stdout",
     "output_type": "stream",
     "text": [
      "              precision    recall  f1-score   support\n",
      "\n",
      "           0       0.81      0.77      0.79       267\n",
      "           1       0.80      0.83      0.81       290\n",
      "\n",
      "    accuracy                           0.80       557\n",
      "   macro avg       0.80      0.80      0.80       557\n",
      "weighted avg       0.80      0.80      0.80       557\n",
      "\n"
     ]
    }
   ],
   "source": [
    "# fitting the best model, put the result from above to the respective place\n",
    "\n",
    "best_rf=RandomForestClassifier(max_depth=23,min_samples_leaf=4,n_estimators=91,random_state=90)\n",
    "# for the line above, change the number， 注意顺序填对\n",
    "best_rf.fit(X_train, y_train)\n",
    "y_pred=best_rf.predict(X_test)\n",
    "print(classification_report(y_test, y_pred)) # the table printed below gives the accuracy of the model "
   ]
  },
  {
   "cell_type": "code",
   "execution_count": 25,
   "id": "78079226",
   "metadata": {},
   "outputs": [
    {
     "name": "stdout",
     "output_type": "stream",
     "text": [
      "The class is POSITIVE and the probability for negativity is 0.4889 the probability for positivity is 0.5111\n"
     ]
    }
   ],
   "source": [
    "txt_in=\"best device ever. stable connection and diverse channels. super good.\"\n",
    "vec_in=bow_cv # 如果用的bow就是bow_cv, 如果是tfidf就是tfidf_cv\n",
    "pca_in=bow_pca_transformer # 如果用的bow就是bow_pca_transformer, 如果是tfidf就是tfidf_pca_transformer\n",
    "\n",
    "nlp_pipline(txt_in, vec_in, best_rf, pca_in)"
   ]
  },
  {
   "cell_type": "code",
   "execution_count": null,
   "id": "f3bbb707",
   "metadata": {},
   "outputs": [],
   "source": []
  }
 ],
 "metadata": {
  "kernelspec": {
   "display_name": "Python 3 (ipykernel)",
   "language": "python",
   "name": "python3"
  },
  "language_info": {
   "codemirror_mode": {
    "name": "ipython",
    "version": 3
   },
   "file_extension": ".py",
   "mimetype": "text/x-python",
   "name": "python",
   "nbconvert_exporter": "python",
   "pygments_lexer": "ipython3",
   "version": "3.9.7"
  }
 },
 "nbformat": 4,
 "nbformat_minor": 5
}
